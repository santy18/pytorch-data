{
 "cells": [
  {
   "cell_type": "code",
   "execution_count": null,
   "id": "2f141cb0-f2d4-4455-b70e-13a79804a4b3",
   "metadata": {},
   "outputs": [],
   "source": [
    "asddsa\n",
    "adsad\n",
    "sadssda\n",
    "adsa\n",
    "d\n",
    "\n",
    "adad"
   ]
  }
 ],
 "metadata": {
  "kernelspec": {
   "display_name": "Python 3 (ipykernel)",
   "language": "python",
   "name": "python3"
  },
  "language_info": {
   "codemirror_mode": {
    "name": "ipython",
    "version": 3
   },
   "file_extension": ".py",
   "mimetype": "text/x-python",
   "name": "python",
   "nbconvert_exporter": "python",
   "pygments_lexer": "ipython3",
   "version": "3.12.3"
  }
 },
 "nbformat": 4,
 "nbformat_minor": 5
}
